{
  "nbformat": 4,
  "nbformat_minor": 0,
  "metadata": {
    "colab": {
      "provenance": []
    },
    "kernelspec": {
      "name": "python3",
      "display_name": "Python 3"
    },
    "language_info": {
      "name": "python"
    }
  },
  "cells": [
    {
      "cell_type": "code",
      "execution_count": null,
      "metadata": {
        "id": "jdeDkvYcdUjO"
      },
      "outputs": [],
      "source": []
    },
    {
      "cell_type": "markdown",
      "source": [
        "1. What is Python, and why is it popular ?\n",
        "  -Python is an easy to learn yet powerful object oriented programming language. It is very high level programming language but still powerful as C ,C++and Java.Python programming language was developed by Guido and Rosam in February 1991.\n",
        " Python is popular because of the following reasons\n",
        "It is easy to use.\n",
        "It is an interpreted language not a compiled thus it becomes easy to debug language. It is suitable for beginners to advance learners.\n",
        "For most types of required functionalities is available through various modules of python standard library.\n",
        "Python can run equally well on variety of platforms. Python language is freely available along with its source code. Python is being used in many diverse fields like scripting web applications game development database applications and many more.\n",
        "\n",
        "\n",
        "2.What is an interpreter in Python?\n",
        "-An interpreter in Python is a program that reads and executes Python code line by line. Unlike compiled languages that convert code into machine code before execution, Python is an interpreted language. The interpreter translates the code you write into instructions that the computer can understand and executes them directly.\n",
        "\n",
        "\n",
        "3. What are pre-defined keywords in Python\n",
        "  -Keywords are the words that convey a special meaning to the language compiler or interpreter. These are result for special purpose and must not be used as normal identifier names. Some of the programming language keywords are none, true, break, import ,return etc.\n",
        "\n",
        " 4.Can keywords be used as variable name?\n",
        "  -No, keywords cannot be used as variable names as keywords hold a special meaning in a programming language.\n",
        "\n",
        "\n",
        "5. What is mutability in Python?\n",
        "  -In Python, mutability refers to an object's ability to be modified after its creation. Mutability means that any data structure or variable content can be changed after its creation while running the program or creating it.\n",
        "6. Why are lists mutable, but tuples are immutable?\n",
        "  -Lists are mutable because the values can be changed means we can add the value, remove the value or even we can change the value in a list. Tuples are immutable because once defined it cannot be changed.\n",
        "\n",
        " 7. What is the difference between “==” and “is” operators in Python ?\n",
        "      -== is an equality operator.It compares the values of two objects. And returns True if the values are equal, False otherwise.\n",
        "Example-\n",
        "a = [1, 2, 3]\n",
        "b = [1, 2, 3]\n",
        "print(a == b)  # Output: True (because the lists have the same values)\n",
        "is - an Identity Operator.It compares the identity of two objects also returns True if both variables point to the same object in memory, False otherwise.It checks if two variables refer to the same memory address.\n",
        "Example:-\n",
        "a = [1, 2, 3]\n",
        "b = a\n",
        "print(a is b)  # Output: True (because b refers to the same list as a)\n",
        "\n",
        "c = [1, 2, 3]\n",
        "print(a is c)  # Output: False (because c is a different list object in memory)\n",
        "\n",
        "8. What are logical operators in Python ?\n",
        "  -Logical operators in python are not ,and or these operators Help to check  conditions And give true or false.\n",
        "For example\n",
        "if a>b and a>c:  ## when both the conditions will be true then only the next statement will be executed.\n",
        "      print (“a is the greatest”)\n",
        "\n",
        "For example\n",
        "if a>b or a>c:  ## when any one condition will be true then  the next statement will be executed.\n",
        "        print (“a is the greatest”)\n",
        "\n",
        "\n",
        "9. What is type casting in Python ?\n",
        "  -Type casting in python means changing the data type of an already defined data type of a variable in a program.\n",
        "Example-\n",
        "A=10 # is an integer\n",
        "S=str(A) # We have changed the integer data type into string data type.\n",
        "\n",
        "\n",
        " 10. What is the difference between implicit and explicit type casting?\n",
        "  -Python internally changes the data type of some operants so that all operants have same data type. This type of conversion is automatic hence known as implicit type conversion.\n",
        "An explicit conversion is user defined conversion that forces an expression to be of specific type the explicit type conversion is also known as type casting.\n",
        "\n",
        "\n",
        "\n",
        "11.What is the purpose of conditional statements in Python?\n",
        "  -The purpose of conditional statements in python is to check a given condition and execute a set of statements based on true or false.\n",
        "For example\n",
        "if a>b : # checks a is greater than b\n",
        "    print (“a is the great”) # when true\n",
        "else\n",
        "    print (“a is the great”) # when false\n",
        "\n",
        "\n",
        " 12.How does the elif statement work?\n",
        "  -Sometimes, we need to check another condition in case the test condition of evaluates to false. That is, we want to check a condition when control reaches else part that is condition test in the form of else if conditions. In such case, else if or elif statements are used.\n",
        "Example:\n",
        "Num=10\n",
        "If num<0:\n",
        "\tPrint (“negative”)\n",
        "Elif num==0:\n",
        "\tPrint(“zero”)\n",
        "Else:\n",
        "    Print (“positive”)\n",
        "\n",
        "13.What is the difference between for and while loops?\n",
        "  -The for loop is a counting loop and while is a conditional loop. For repeats a certain number of times. The while lupus is an entry control do as it has a control over entry in the loop in the form of test condition.\n",
        "Ex-\n",
        "For I in range (1,7):\n",
        "Print(I)\n",
        "It will start from 1 and print till 6.It will check the the condition for i<7.\n",
        "\n",
        "Example for while:\n",
        "I=1\n",
        "While (i<7):# checking condition if true then only it will run the next statement.\n",
        "Print (I)\n",
        "I=I+1\n",
        "\n",
        "14. Describe a scenario where a while loop is more suitable than a for loop.\n",
        "•\tFor loop is used Repeating code a specific number of times: Executing a block of code a set number of times using the range() function.\n",
        "Example:\n",
        "for i in range(5):\n",
        "        print(i)\n",
        "whereas while is used for repeating code until a condition is met: Executing a block of code repeatedly as long as a specific condition remains true.\n",
        "Python\n",
        "    count = 0\n",
        "    while count < 5:\n",
        "        print(count)\n",
        "        count += 1\n",
        "\n"
      ],
      "metadata": {
        "id": "oyUuIjLbjaqG"
      }
    },
    {
      "cell_type": "code",
      "source": [
        "# Write a Python program to print \"Hello, World!\n",
        "print(\"Hello,World!\")"
      ],
      "metadata": {
        "id": "4Lm30Spm9pCM",
        "colab": {
          "base_uri": "https://localhost:8080/"
        },
        "outputId": "3eb21cdd-574e-4ccf-c410-2c0751944b8c"
      },
      "execution_count": 1,
      "outputs": [
        {
          "output_type": "stream",
          "name": "stdout",
          "text": [
            "Hello,World!\n"
          ]
        }
      ]
    },
    {
      "cell_type": "code",
      "source": [
        "#Write a Python program that displays your name and age\n",
        "a=input(\"enter your name\")\n",
        "b=input(\"enter your age\")\n",
        "print (a)\n",
        "print (b)"
      ],
      "metadata": {
        "colab": {
          "base_uri": "https://localhost:8080/"
        },
        "id": "6Acvj_h2Jdz5",
        "outputId": "e8b80374-5a9e-4afc-db71-e4e7ec26cc0e"
      },
      "execution_count": 3,
      "outputs": [
        {
          "output_type": "stream",
          "name": "stdout",
          "text": [
            "enter your nameShruti\n",
            "enter your age44\n",
            "Shruti\n",
            "44\n"
          ]
        }
      ]
    },
    {
      "cell_type": "code",
      "source": [
        "\n",
        "# Write code to print all the pre-defined keywords in Python using the keyword library\n",
        "import keyword\n",
        "\n",
        "print(keyword.kwlist)"
      ],
      "metadata": {
        "colab": {
          "base_uri": "https://localhost:8080/"
        },
        "id": "maa6PXRHKMmv",
        "outputId": "171aef13-5508-48c3-9d2d-32529e5bb217"
      },
      "execution_count": 1,
      "outputs": [
        {
          "output_type": "stream",
          "name": "stdout",
          "text": [
            "['False', 'None', 'True', 'and', 'as', 'assert', 'async', 'await', 'break', 'class', 'continue', 'def', 'del', 'elif', 'else', 'except', 'finally', 'for', 'from', 'global', 'if', 'import', 'in', 'is', 'lambda', 'nonlocal', 'not', 'or', 'pass', 'raise', 'return', 'try', 'while', 'with', 'yield']\n"
          ]
        }
      ]
    },
    {
      "cell_type": "code",
      "source": [
        "#Write a program that checks if a given word is a Python keyword.\n",
        "import keyword\n",
        "a=input(\"give a word\")\n",
        "is_keyword = keyword.iskeyword(a)\n",
        "print(is_keyword)"
      ],
      "metadata": {
        "colab": {
          "base_uri": "https://localhost:8080/"
        },
        "id": "FmxcDLS-ZmVp",
        "outputId": "85117b2b-1fd9-41fc-8dae-625918ae1614"
      },
      "execution_count": 5,
      "outputs": [
        {
          "output_type": "stream",
          "name": "stdout",
          "text": [
            "give a wordbreak\n",
            "True\n"
          ]
        }
      ]
    },
    {
      "cell_type": "markdown",
      "source": [
        "\n",
        "\n",
        "\n",
        "\n",
        "\n",
        "\n",
        "\n",
        "\n",
        "\n",
        "\n",
        "\n",
        "15. Write a Python program to calculate the factorial of a number provided by the user using a while loop"
      ],
      "metadata": {
        "id": "Hk9LefzJ9v7e"
      }
    },
    {
      "cell_type": "code",
      "source": [],
      "metadata": {
        "id": "EgNtCIncfKhK"
      },
      "execution_count": null,
      "outputs": []
    },
    {
      "cell_type": "code",
      "source": [],
      "metadata": {
        "id": "frKNOuB0fM02"
      },
      "execution_count": null,
      "outputs": []
    },
    {
      "cell_type": "code",
      "source": [
        "#Write a function to demonstrate the behavior of mutable and immutable arguments."
      ],
      "metadata": {
        "id": "6uOXNmgdakiU"
      },
      "execution_count": null,
      "outputs": []
    },
    {
      "cell_type": "code",
      "source": [
        "#Write a program that performs basic arithmetic operations on two user-input numbers.\n",
        "\n",
        "n1=int(input(\"give one number\"))\n",
        "n2=int(input(\"give another number\"))\n",
        "print(n1+n2, \"is the sum\")\n",
        "print(n1-n2, \"is the difference\")\n",
        "print(n1*n2, \"is the product\")\n",
        "print(n1/n2, \"is the quotient\")\n"
      ],
      "metadata": {
        "colab": {
          "base_uri": "https://localhost:8080/"
        },
        "id": "HdiQkbxzbLFe",
        "outputId": "f2d6aebe-ade4-4f8c-b60b-21e7b8a16df3"
      },
      "execution_count": 12,
      "outputs": [
        {
          "output_type": "stream",
          "name": "stdout",
          "text": [
            "give one number21\n",
            "give another number45\n",
            "66 is the sum\n"
          ]
        }
      ]
    },
    {
      "cell_type": "code",
      "source": [
        "#Write a program to demonstrate the use of logical operators.\n",
        "n1=int(input(\"give one number\"))\n",
        "n2=int(input(\"give another number\"))\n",
        "n3=int(input(\"give third number\"))\n",
        "if n1>n2 and n1>n3:\n",
        "  print(n1,\"is the greatest number\")\n",
        "elif n2>n1 and n2>n3:\n",
        "    print(n2,\"is the greatest number\")\n",
        "else:\n",
        "    print(n3,\"is the greatest number\")\n"
      ],
      "metadata": {
        "colab": {
          "base_uri": "https://localhost:8080/"
        },
        "id": "hoXk2Xmfc-O9",
        "outputId": "ebdfe999-e4fa-43cc-a020-4a673c15b287"
      },
      "execution_count": 15,
      "outputs": [
        {
          "output_type": "stream",
          "name": "stdout",
          "text": [
            "give one number12\n",
            "give another number10\n",
            "give third number5\n",
            "12 is the greatest number\n"
          ]
        }
      ]
    },
    {
      "cell_type": "markdown",
      "source": [],
      "metadata": {
        "id": "ZwKi0xPI9rKm"
      }
    },
    {
      "cell_type": "code",
      "source": [
        "#Create a list and tuple in Python, and demonstrate how attempting to change an element works differently for each.\n",
        "snacks=[\"chips\",\"juice\",\"chocolate\",12,34]\n",
        "fruits=(\"banana\",\"apple\",\"orange\",\"kiwi\",\"pear\")\n",
        "print (snacks)\n",
        "snacks.append(\"muffins\")\n",
        "print(snacks)\n",
        "print(len(fruits))"
      ],
      "metadata": {
        "colab": {
          "base_uri": "https://localhost:8080/"
        },
        "id": "LkYJWKwxfQ2b",
        "outputId": "d4514505-0684-4a31-af72-9da673b092e6"
      },
      "execution_count": 23,
      "outputs": [
        {
          "output_type": "stream",
          "name": "stdout",
          "text": [
            "['chips', 'juice', 'chocolate', 12, 34]\n",
            "['chips', 'juice', 'chocolate', 12, 34, 'muffins']\n",
            "5\n"
          ]
        }
      ]
    },
    {
      "cell_type": "code",
      "source": [
        "#Write a Python program to convert user input from string to integer, float, and boolean types.\n",
        "n=input(\"enter a string value\")\n",
        "print(type(n))\n",
        "n=int(n)\n",
        "print(type(n))\n",
        "n=float(n)\n",
        "print(type(n))\n",
        "n=bool(n)\n",
        "print(type(n))"
      ],
      "metadata": {
        "colab": {
          "base_uri": "https://localhost:8080/"
        },
        "id": "C6Ph7kz1iYey",
        "outputId": "94ad7cbc-95a4-42c1-f0a9-dab437791f0e"
      },
      "execution_count": 27,
      "outputs": [
        {
          "output_type": "stream",
          "name": "stdout",
          "text": [
            "enter a string value45\n",
            "<class 'str'>\n",
            "<class 'int'>\n",
            "<class 'float'>\n",
            "<class 'bool'>\n"
          ]
        }
      ]
    },
    {
      "cell_type": "code",
      "source": [
        "# Write code to demonstrate type casting with list elements.\n",
        "lst1=[12,34,\"a\",\"b\"]\n",
        "for i in lst1:\n",
        "  if type(lst1(i))==str:\n",
        "    lst1(i)=int(lst1(i))\n",
        "  else:\n",
        "    lst1(i)=bool(lst1(i))"
      ],
      "metadata": {
        "id": "Hk4HglJJjbxY"
      },
      "execution_count": null,
      "outputs": []
    },
    {
      "cell_type": "code",
      "source": [
        "#Write a program that checks if a number is positive, negative, or zero.\n",
        "n1=int(input(\"give one number\"))\n",
        "if n1>0:\n",
        "  print(n1,\"is a positive\")\n",
        "elif n1==0:\n",
        "    print(n1,\"is zero\")\n",
        "else:\n",
        "    print(n1,\"is negative\")"
      ],
      "metadata": {
        "colab": {
          "base_uri": "https://localhost:8080/"
        },
        "id": "PYHEdPKdjfLF",
        "outputId": "2a07e6ee-3513-4bff-fe70-775d8f7cc8fa"
      },
      "execution_count": 32,
      "outputs": [
        {
          "output_type": "stream",
          "name": "stdout",
          "text": [
            "give one number0\n",
            "0 is zero\n"
          ]
        }
      ]
    },
    {
      "cell_type": "code",
      "source": [
        "# Write a for loop to print numbers from 1 to 10.\n",
        "for i in range(1,11):\n",
        "  print(i)"
      ],
      "metadata": {
        "colab": {
          "base_uri": "https://localhost:8080/"
        },
        "id": "e7d5uxvtklre",
        "outputId": "002b54c9-e036-41a1-dade-2689dee6a93a"
      },
      "execution_count": 35,
      "outputs": [
        {
          "output_type": "stream",
          "name": "stdout",
          "text": [
            "1\n",
            "2\n",
            "3\n",
            "4\n",
            "5\n",
            "6\n",
            "7\n",
            "8\n",
            "9\n",
            "10\n"
          ]
        }
      ]
    },
    {
      "cell_type": "markdown",
      "source": [],
      "metadata": {
        "id": "TpVfRl1bjXhb"
      }
    },
    {
      "cell_type": "code",
      "source": [
        "#Write a Python program to find the sum of all even numbers between 1 and 50\n",
        "sum=0\n",
        "for i in range(1,51):\n",
        "  sum=sum+i\n",
        "print(sum)"
      ],
      "metadata": {
        "colab": {
          "base_uri": "https://localhost:8080/"
        },
        "id": "DbguYdCDlSeA",
        "outputId": "5dedf751-8742-425e-8b52-0ec458709d50"
      },
      "execution_count": 37,
      "outputs": [
        {
          "output_type": "stream",
          "name": "stdout",
          "text": [
            "1275\n"
          ]
        }
      ]
    },
    {
      "cell_type": "code",
      "source": [
        "#Write a program to reverse a string using a while loop.\n",
        "str=input(\"enter a string value\")\n",
        "reversed_str = \"\"\n",
        "index = 0\n",
        "while index < len(str):\n",
        "        reversed_str = str[index] + reversed_str\n",
        "        index += 1\n",
        "        print( reversed_str)"
      ],
      "metadata": {
        "colab": {
          "base_uri": "https://localhost:8080/"
        },
        "id": "EZq_Lvo6lmLL",
        "outputId": "784edbee-fafe-4ab3-8fff-8ccf44ec5f3c"
      },
      "execution_count": 45,
      "outputs": [
        {
          "output_type": "stream",
          "name": "stdout",
          "text": [
            "enter a string valueshruti\n",
            "s\n",
            "hs\n",
            "rhs\n",
            "urhs\n",
            "turhs\n",
            "iturhs\n"
          ]
        }
      ]
    },
    {
      "cell_type": "code",
      "source": [
        "# Write a Python program to calculate the factorial of a number provided by the user using a while loop.\n",
        "num=int(input(\"enter a number\"))\n",
        "f=1\n",
        "for i in range (num,0,-1):\n",
        "  f=f*i\n",
        "print(num,\"!is\",f)"
      ],
      "metadata": {
        "colab": {
          "base_uri": "https://localhost:8080/"
        },
        "id": "uJfJb2yZpeGv",
        "outputId": "d6d4b1ac-cba9-4d84-9005-2a2e83635875"
      },
      "execution_count": 49,
      "outputs": [
        {
          "output_type": "stream",
          "name": "stdout",
          "text": [
            "enter a number5\n",
            "5 !is 120\n"
          ]
        }
      ]
    }
  ]
}